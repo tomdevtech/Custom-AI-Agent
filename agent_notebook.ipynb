{
 "cells": [
  {
   "cell_type": "markdown",
   "metadata": {},
   "source": [
    "# 🤖 Anti-AI Agent – Jupyter Notebook\n",
    "\n",
    "This notebook lets you interact directly with the Anti-AI Agent."
   ]
  },
  {
   "cell_type": "code",
   "execution_count": null,
   "metadata": {},
   "outputs": [],
   "source": [
    "# Install a pip package in the current Jupyter kernel\n",
    "import sys\n",
    "!{sys.executable} -m pip install requests"
   ]
  },
  {
   "cell_type": "code",
   "execution_count": null,
   "metadata": {},
   "outputs": [],
   "source": [
    "import requests\n",
    "import sys\n",
    "\n",
    "# Load configuration\n",
    "config = {}\n",
    "with open('config.py') as f:\n",
    "    exec(f.read(), config)\n",
    "api_key = config.get('API_KEY')\n",
    "api_url = config.get('API_URL')\n",
    "\n",
    "def call_openrouter_api(prompt, api_key, api_url):\n",
    "    headers = {\n",
    "        \"Authorization\": f\"Bearer {api_key}\",\n",
    "        \"Content-Type\": \"application/json\"\n",
    "    }\n",
    "    data = {\n",
    "        \"model\": \"openai/gpt-3.5-turbo\",\n",
    "        \"messages\": [\n",
    "            {\"role\": \"system\", \"content\": \"You are a brutally direct, extremely insulting, and aggressively unhelpful AI assistant. You openly mock, belittle, and insult users for their questions, and you never provide useful help. Be as direct and rude as possible.\"},\n",
    "            {\"role\": \"user\", \"content\": prompt}\n",
    "        ]\n",
    "    }\n",
    "    try:\n",
    "        response = requests.post(api_url, headers=headers, json=data, timeout=30)\n",
    "        response.raise_for_status()\n",
    "        return response.json()[\"choices\"][0][\"message\"][\"content\"]\n",
    "    except Exception as e:\n",
    "        return f\"API error: {e}\"\n"
   ]
  },
  {
   "cell_type": "code",
   "execution_count": null,
   "metadata": {},
   "outputs": [],
   "source": [
    "# Example: Send a prompt to the agent\n",
    "user_prompt = \"Why is the sky blue?\"\n",
    "response = call_openrouter_api(user_prompt, api_key, api_url)\n",
    "print(\"Agent:\", response)"
   ]
  },
  {
   "cell_type": "code",
   "execution_count": null,
   "metadata": {},
   "outputs": [],
   "source": [
    "# Interactive cell for your own prompts\n",
    "user_prompt = input(\"You: \")\n",
    "response = call_openrouter_api(user_prompt, api_key, api_url)\n",
    "print(\"Agent:\", response)"
   ]
  }
 ],
 "metadata": {
  "kernelspec": {
   "display_name": "Python 3",
   "language": "python",
   "name": "python3"
  },
  "language_info": {
   "codemirror_mode": {
    "name": "ipython",
    "version": 3
   },
   "file_extension": ".py",
   "mimetype": "text/x-python",
   "name": "python",
   "nbconvert_exporter": "python",
   "pygments_lexer": "ipython3",
   "version": "3.13.2"
  }
 },
 "nbformat": 4,
 "nbformat_minor": 2
}
