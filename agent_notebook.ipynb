{
    "cells": [
        {
            "cell_type": "markdown",
            "metadata": {
                "id": "db50a9a4",
                "language": "markdown"
            },
            "source": [
                "# 🤖 Anti-AI Agent – Jupyter Notebook\n",
                "\n",
                "This notebook lets you interact directly with the Anti-AI Agent.\n",
                "\n",
                "You can change the system prompt by entering a prompt starting with `change mode:`. The agent will not respond to this command.\n",
                "\n",
                "You can also send the agent's response as an email using Gmail (App Password required).\n",
                "\n",
                "**To send an email:**\n",
                "\n",
                "Type `mailmode` and follow the prompts for recipient and message.\n",
                "\n",
                "The agent will process your message, get a response from the API, and send it to the specified email address.\n",
                "\n",
                "For Gmail, you must use an [App Password](https://support.google.com/accounts/answer/185833?hl=en) for SMTP access. See the README for setup instructions."
            ]
        },
        {
            "cell_type": "code",
            "execution_count": null,
            "metadata": {
                "id": "ce6ddfb2",
                "language": "python"
            },
            "outputs": [],
            "source": [
                "# Install a pip package in the current Jupyter kernel\n",
                "import sys\n",
                "!{sys.executable} -m pip install requests"
            ]
        },
        {
            "cell_type": "code",
            "execution_count": null,
            "metadata": {
                "id": "f0ad3cd7",
                "language": "python"
            },
            "outputs": [],
            "source": [
                "import requests\n",
                "import random\n",
                "import sys\n",
                "from mailer import Mailer\n",
                "\n",
                "# Default system prompt\n",
                "ROLE_SYSTEM = \"You are a brutally direct, extremely insulting, and aggressively unhelpful AI assistant. You openly mock, belittle, and insult users for their questions, and you never provide useful help. Be as direct and rude as possible.\"\n",
                "\n",
                "# Load configuration\n",
                "config = {}\n",
                "with open('config.py') as f:\n",
                "    exec(f.read(), config)\n",
                "api_key = config.get('API_KEY')\n",
                "api_url = config.get('API_URL')\n",
                "\n",
                "def call_openrouter_api(prompt, api_key, api_url, role_system):\n",
                "    headers = {\n",
                "        \"Authorization\": f\"Bearer {api_key}\",\n",
                "        \"Content-Type\": \"application/json\"\n",
                "    }\n",
                "    data = {\n",
                "        \"model\": \"openai/gpt-3.5-turbo\",\n",
                "        \"messages\": [\n",
                "            {\"role\": \"system\", \"content\": role_system},\n",
                "            {\"role\": \"user\", \"content\": prompt}\n",
                "        ]\n",
                "    }\n",
                "    try:\n",
                "        response = requests.post(api_url, headers=headers, json=data, timeout=30)\n",
                "        response.raise_for_status()\n",
                "        return response.json()[\"choices\"][0][\"message\"][\"content\"]\n",
                "    except Exception as e:\n",
                "        return f\"API error: {e}\"\n",
                "\n",
                "mailer = Mailer()"
            ]
        },
        {
            "cell_type": "code",
            "execution_count": null,
            "metadata": {
                "id": "fc92bcc1",
                "language": "python"
            },
            "outputs": [],
            "source": [
                "# Example: Send a prompt to the agent\n",
                "user_prompt = \"Why is the sky blue?\"\n",
                "response = call_openrouter_api(user_prompt, api_key, api_url, ROLE_SYSTEM)\n",
                "print(\"Agent:\", response)"
            ]
        },
        {
            "cell_type": "code",
            "execution_count": null,
            "id": "5db40964",
            "metadata": {
                "id": "019ae86d",
                "language": "python"
            },
            "outputs": [],
            "source": [
                "# Interactive cell for your own prompts, mode switching, and email sending\n",
                "\n",
                "while True:\n",
                "    user_prompt = input(\"You: \")\n",
                "    if user_prompt.lower().startswith('change mode:'):\n",
                "        new_role = user_prompt[len('change mode:'):].strip()\n",
                "        print(\"\\n--- System Prompt Preview ---\")\n",
                "        print(new_role)\n",
                "        print(\"-----------------------------\\n\")\n",
                "        confirm = input(\"Change system prompt to this? (yes/no): \").strip().lower()\n",
                "        if confirm == \"yes\":\n",
                "            ROLE_SYSTEM = new_role\n",
                "            print(\"System prompt updated!\")\n",
                "        else:\n",
                "            print(\"System prompt not changed.\")\n",
                "        continue\n",
                "    if user_prompt.lower() == 'exit':\n",
                "        print(\"Goodbye!\")\n",
                "        break\n",
                "    if user_prompt.lower() == 'mailmode':\n",
                "        to_addr = input(\"Recipient email address: \").strip()\n",
                "        if '@' not in to_addr:\n",
                "            print(\"Invalid email address.\")\n",
                "            continue\n",
                "        prompt = input(\"Message: \").strip()\n",
                "        while True:\n",
                "            response = call_openrouter_api(prompt, api_key, api_url, ROLE_SYSTEM)\n",
                "            print(\"\\n--- Message Preview ---\")\n",
                "            print(response)\n",
                "            print(\"----------------------\\n\")\n",
                "            confirm = input(\"Send this message? (yes/regenerate/cancel): \").strip().lower()\n",
                "            if confirm == \"yes\":\n",
                "                subject = \"AI Agent Response\"\n",
                "                from_addr = config.get('EMAIL')\n",
                "                to_addrs = [to_addr]\n",
                "                if mailer.send_mail(subject, response, from_addr, to_addrs):\n",
                "                    print(\"Email sent successfully.\")\n",
                "                else:\n",
                "                    print(\"Failed to send email.\")\n",
                "                break\n",
                "            elif confirm == \"regenerate\":\n",
                "                print(\"Regenerating response...\")\n",
                "                continue\n",
                "            else:\n",
                "                print(\"Cancelled.\")\n",
                "                break\n",
                "        continue\n",
                "    response = call_openrouter_api(user_prompt, api_key, api_url, ROLE_SYSTEM)\n",
                "    print(\"Agent:\", response)"
            ]
        }
    ],
    "metadata": {
        "kernelspec": {
            "display_name": "Python 3",
            "language": "python",
            "name": "python3"
        },
        "language_info": {
            "name": "python",
            "version": "3.13.2"
        }
    },
    "nbformat": 4,
    "nbformat_minor": 5
}
