{
 "cells": [
  {
   "cell_type": "markdown",
   "metadata": {},
   "source": [
    "# Anti-AI Agent Notebook\n",
    "\n",
    "This notebook allows you to interact with the Anti-AI Agent in a flexible environment. You can modify prompts and test different agent behaviors."
   ]
  },
  {
   "cell_type": "code",
   "execution_count": null,
   "metadata": {
    "id": "setup"
   },
   "outputs": [],
   "source": [
    "# Import necessary libraries\n",
    "import requests\n",
    "import json\n",
    "\n",
    "# Load configuration\n",
    "with open('config.py') as config_file:\n",
    "    config = config_file.read()\n",
    "\n",
    "# Define the API endpoint\n",
    "API_URL = 'https://api.openrouter.ai/v1/endpoint'  # Replace with actual endpoint\n",
    "\n",
    "# Function to get a response from the Anti-AI Agent\n",
    "def get_response(prompt):\n",
    "    headers = {\n",
    "        'Authorization': f'Bearer {config['API_KEY']}',\n",
    "        'Content-Type': 'application/json'\n",
    "    }\n",
    "    data = json.dumps({'prompt': prompt})\n",
    "    response = requests.post(API_URL, headers=headers, data=data)\n",
    "    return response.json()['response']  # Adjust based on actual response structure"
   ]
  },
  {
   "cell_type": "code",
   "execution_count": null,
   "metadata": {
    "id": "prompt_input"
   },
   "outputs": [],
   "source": [
    "# Input cell for user prompt\n",
    "user_prompt = input('Enter your prompt for the Anti-AI Agent: ')\n",
    "\n",
    "# Get response from the agent\n",
    "response = get_response(user_prompt)\n",
    "print('Agent Response:', response)"
   ]
  }
 ],
 "metadata": {
  "kernelspec": {
   "display_name": "Python 3",
   "language": "python",
   "name": "python3"
  },
  "language_info": {
   "codemirror_mode": {
    "name": "ipython",
    "version": 3
   },
   "file_extension": ".py",
   "mimetype": "text/x-python",
   "name": "python",
   "nbconvert_exporter": "python",
   "pygments_lexer": "ipython3",
   "version": "3.8.5"
  }
 },
 "nbformat": 4,
 "nbformat_minor": 4
}