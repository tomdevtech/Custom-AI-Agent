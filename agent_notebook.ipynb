{
    "cells": [
        {
            "cell_type": "markdown",
            "metadata": {
                "id": "db50a9a4",
                "language": "markdown"
            },
            "source": [
                "# 🤖 Anti-AI Agent – Jupyter Notebook",
                "",
                "This notebook lets you interact directly with the Anti-AI Agent.",
                "",
                "You can change the system prompt by entering a prompt starting with `change mode:`. The agent will not respond to this command.",
                "",
                "You can also send the agent's response as an email using Gmail (App Password required).",
                "",
                "**To send an email:**",
                "",
                "`mail: recipient@example.com, Your message to the AI`",
                "",
                "The agent will process your message, get a response from the API, and send it to the specified email address.",
                "",
                "For Gmail, you must use an [App Password](https://support.google.com/accounts/answer/185833?hl=en) for SMTP access. See the README for setup instructions."
            ]
        },
        {
            "cell_type": "code",
            "metadata": {
                "id": "ce6ddfb2",
                "language": "python"
            },
            "source": [
                "# Install a pip package in the current Jupyter kernel",
                "import sys",
                "!{sys.executable} -m pip install requests"
            ]
        },
        {
            "cell_type": "code",
            "metadata": {
                "id": "f0ad3cd7",
                "language": "python"
            },
            "source": [
                "import requests",
                "import sys",
                "from mailer import Mailer",
                "",
                "# Default system prompt",
                "ROLE_SYSTEM = \"You are a brutally direct, extremely insulting, and aggressively unhelpful AI assistant. You openly mock, belittle, and insult users for their questions, and you never provide useful help. Be as direct and rude as possible.\"",
                "",
                "# Load configuration",
                "config = {}",
                "with open('config.py') as f:",
                "    exec(f.read(), config)",
                "api_key = config.get('API_KEY')",
                "api_url = config.get('API_URL')",
                "",
                "def call_openrouter_api(prompt, api_key, api_url, role_system):",
                "    headers = {",
                "        \"Authorization\": f\"Bearer {api_key}\",",
                "        \"Content-Type\": \"application/json\"",
                "    }",
                "    data = {",
                "        \"model\": \"openai/gpt-3.5-turbo\",",
                "        \"messages\": [",
                "            {\"role\": \"system\", \"content\": role_system},",
                "            {\"role\": \"user\", \"content\": prompt}",
                "        ]",
                "    }",
                "    try:",
                "        response = requests.post(api_url, headers=headers, json=data, timeout=30)",
                "        response.raise_for_status()",
                "        return response.json()[\"choices\"][0][\"message\"][\"content\"]",
                "    except Exception as e:",
                "        return f\"API error: {e}\"",
                "",
                "mailer = Mailer()"
            ]
        },
        {
            "cell_type": "code",
            "metadata": {
                "id": "fc92bcc1",
                "language": "python"
            },
            "source": [
                "# Example: Send a prompt to the agent",
                "user_prompt = \"Why is the sky blue?\"",
                "response = call_openrouter_api(user_prompt, api_key, api_url, ROLE_SYSTEM)",
                "print(\"Agent:\", response)"
            ]
        },
        {
            "cell_type": "code",
            "metadata": {
                "id": "03ed8f78",
                "language": "python"
            },
            "source": [
                "# Interactive cell for your own prompts, mode switching, and email sending",
                "while True:",
                "    user_prompt = input(\"You: \")",
                "    if user_prompt.lower().startswith('change mode:'):",
                "        ROLE_SYSTEM = user_prompt[len('change mode:'):].strip()",
                "        continue",
                "    if user_prompt.lower() == 'exit':",
                "        print(\"Goodbye!\")",
                "        break",
                "    if user_prompt.lower().startswith('mail:'):",
                "        mail_content = user_prompt[len('mail:'):].strip()",
                "        if ',' not in mail_content:",
                "            print(\"Please use the format: mail: recipient@example.com, Your message\")",
                "            continue",
                "        to_addr, prompt = [x.strip() for x in mail_content.split(',', 1)]",
                "        response = call_openrouter_api(prompt, api_key, api_url, ROLE_SYSTEM)",
                "        print(\"Agent (to be mailed):\", response)",
                "        subject = \"AI Agent Response\"",
                "        from_addr = config.get('EMAIL')",
                "        to_addrs = [to_addr]",
                "        if mailer.send_mail(subject, response, from_addr, to_addrs):",
                "            print(\"Email sent successfully.\")",
                "        else:",
                "            print(\"Failed to send email.\")",
                "        continue",
                "    response = call_openrouter_api(user_prompt, api_key, api_url, ROLE_SYSTEM)",
                "    print(\"Agent:\", response)"
            ]
        }
    ]
}